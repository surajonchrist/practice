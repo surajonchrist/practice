{
 "cells": [
  {
   "cell_type": "markdown",
   "metadata": {},
   "source": [
    "# TUTORIAL 2 : BEZIER CURVES\n",
    "## 1) Bernstein polynomial\n",
    "\n",
    "The goal here is to create a function $\\textit{Bernstein}(N,t)$ that returns an array of size $(N+1)\\times len(t)$. The $i^{th}$ line contains Polynomial $B_N^i(t)$. Its length is the length of $t$.\n",
    "You also have to plot the Bernstein polynomials."
   ]
  },
  {
   "cell_type": "code",
   "execution_count": 1,
   "metadata": {},
   "outputs": [
    {
     "ename": "IndentationError",
     "evalue": "expected an indented block (<ipython-input-1-2981bcf98e84>, line 9)",
     "output_type": "error",
     "traceback": [
      "\u001b[0;36m  File \u001b[0;32m\"<ipython-input-1-2981bcf98e84>\"\u001b[0;36m, line \u001b[0;32m9\u001b[0m\n\u001b[0;31m    return cnp\u001b[0m\n\u001b[0m         ^\u001b[0m\n\u001b[0;31mIndentationError\u001b[0m\u001b[0;31m:\u001b[0m expected an indented block\n"
     ]
    }
   ],
   "source": [
    "%matplotlib inline\n",
    "import numpy as np\n",
    "import matplotlib.pyplot as plt\n",
    "\n",
    "#----------------------\n",
    "# Binomial coefficient\n",
    "def nchoosek(n,p):\n",
    "    # TO BE DONE\n",
    "return cnp\n",
    "\n",
    "#---------------------\n",
    "# Bernstein Polynomials\n",
    "# N is the degree\n",
    "# t = np.linspace(0,1,500)\n",
    "def Bernstein(N,t):\n",
    "    # TO BE DONE\n",
    "    return BNt\n",
    "\n",
    "#----------------------\n",
    "# plot of the Bernstein polynomials\n",
    "N=5\n",
    "x = np.linspace(0,1,500)\n",
    "Bern = Bernstein(N,x)\n",
    "for k in range(N+1):\n",
    "    plt.plot(x,Bern[k])\n"
   ]
  },
  {
   "cell_type": "markdown",
   "metadata": {},
   "source": [
    "## 2) Interactive acquisition of a control polygon\n",
    "The following code does not work in the notebook environment. Please copy/paste it to a file tutorial2.py. \n",
    "From now on, continue everything on this new file."
   ]
  },
  {
   "cell_type": "code",
   "execution_count": 2,
   "metadata": {},
   "outputs": [
    {
     "ename": "NameError",
     "evalue": "name 'plt' is not defined",
     "output_type": "error",
     "traceback": [
      "\u001b[0;31m---------------------------------------------------------------------------\u001b[0m",
      "\u001b[0;31mNameError\u001b[0m                                 Traceback (most recent call last)",
      "\u001b[0;32m<ipython-input-2-04b775bf760c>\u001b[0m in \u001b[0;36m<module>\u001b[0;34m()\u001b[0m\n\u001b[1;32m     21\u001b[0m \u001b[0;34m\u001b[0m\u001b[0m\n\u001b[1;32m     22\u001b[0m \u001b[0;31m# main part of the program to call AcquisitionPolygone.\u001b[0m\u001b[0;34m\u001b[0m\u001b[0;34m\u001b[0m\u001b[0m\n\u001b[0;32m---> 23\u001b[0;31m \u001b[0mfig2\u001b[0m \u001b[0;34m=\u001b[0m \u001b[0mplt\u001b[0m\u001b[0;34m.\u001b[0m\u001b[0mfigure\u001b[0m\u001b[0;34m(\u001b[0m\u001b[0;34m)\u001b[0m\u001b[0;34m\u001b[0m\u001b[0m\n\u001b[0m\u001b[1;32m     24\u001b[0m \u001b[0max\u001b[0m \u001b[0;34m=\u001b[0m \u001b[0mfig2\u001b[0m\u001b[0;34m.\u001b[0m\u001b[0madd_subplot\u001b[0m\u001b[0;34m(\u001b[0m\u001b[0;36m111\u001b[0m\u001b[0;34m)\u001b[0m\u001b[0;34m\u001b[0m\u001b[0m\n\u001b[1;32m     25\u001b[0m \u001b[0mminmax\u001b[0m \u001b[0;34m=\u001b[0m \u001b[0;36m10\u001b[0m\u001b[0;34m\u001b[0m\u001b[0m\n",
      "\u001b[0;31mNameError\u001b[0m: name 'plt' is not defined"
     ]
    }
   ],
   "source": [
    "def AcquisitionPolygone(minmax,color1,color2) :\n",
    "    x = []\n",
    "    y = []\n",
    "    coord = 0\n",
    "    while coord != []:\n",
    "        coord = plt.ginput(1, mouse_add=1, mouse_stop=3, mouse_pop=2)\n",
    "        if coord != []:\n",
    "            plt.draw()\n",
    "            xx = coord[0][0]\n",
    "            yy = coord[0][1]\n",
    "            plt.plot(xx,yy,color1,ms=8);\n",
    "            x.append(xx);\n",
    "            y.append(yy);\n",
    "            if len(x) > 1 :\n",
    "                plt.plot([x[-2],x[-1]],[y[-2],y[-1]],color2)\n",
    "    #Polygon creation\n",
    "    Polygon = np.zeros((2,len(x)))\n",
    "    Polygon[0,:] = x\n",
    "    Polygon[1,:] = y\n",
    "    return Polygon\n",
    "\n",
    "# main part of the program to call AcquisitionPolygone.\n",
    "fig2 = plt.figure()\n",
    "ax = fig2.add_subplot(111)    \n",
    "minmax = 10\n",
    "ax.set_xlim((-minmax,minmax))\n",
    "ax.set_ylim((-minmax,minmax))\n",
    "plt.title(\"Polygon acquisition and Bezier curve\")\n",
    "Poly = AcquisitionPolygone(minmax,'or',':r')\n",
    "PlotBezierCurve(Poly)# This function has to be defined \n",
    "plt.waitforbuttonpress()\n"
   ]
  },
  {
   "cell_type": "markdown",
   "metadata": {},
   "source": [
    "## 3) Create a function PlotBezierCurve\n",
    "Given a control Polygon, the goal is to plot the Bezier curve using the parametric definition (matrix multiplication)"
   ]
  },
  {
   "cell_type": "code",
   "execution_count": 3,
   "metadata": {},
   "outputs": [],
   "source": [
    "def PlotBezierCurve(Polygon):\n",
    "    # DETERMINE Bezier    \n",
    "    plt.draw()\n",
    "    plt.plot(Bezier[0,:],Bezier[1,:],label='Bezier curve')\n",
    "    plt.legend()\n",
    "    return     \n"
   ]
  },
  {
   "cell_type": "markdown",
   "metadata": {},
   "source": [
    "## 4) De Casteljau Algorithm"
   ]
  },
  {
   "cell_type": "code",
   "execution_count": 4,
   "metadata": {},
   "outputs": [],
   "source": [
    "def DeCasteljau(Polygon,t):#returns the two diagonals\n",
    "    # CALCULATE the two diagonals\n",
    "    return Coef\n"
   ]
  },
  {
   "cell_type": "markdown",
   "metadata": {},
   "source": [
    "## 5) Plot the first and second subdivision polygon"
   ]
  },
  {
   "cell_type": "code",
   "execution_count": null,
   "metadata": {},
   "outputs": [],
   "source": []
  },
  {
   "cell_type": "code",
   "execution_count": null,
   "metadata": {},
   "outputs": [],
   "source": []
  },
  {
   "cell_type": "code",
   "execution_count": null,
   "metadata": {},
   "outputs": [],
   "source": []
  },
  {
   "cell_type": "code",
   "execution_count": null,
   "metadata": {},
   "outputs": [],
   "source": []
  },
  {
   "cell_type": "code",
   "execution_count": null,
   "metadata": {
    "collapsed": true
   },
   "outputs": [],
   "source": []
  }
 ],
 "metadata": {
  "kernelspec": {
   "display_name": "Python 3",
   "language": "python",
   "name": "python3"
  },
  "language_info": {
   "codemirror_mode": {
    "name": "ipython",
    "version": 3
   },
   "file_extension": ".py",
   "mimetype": "text/x-python",
   "name": "python",
   "nbconvert_exporter": "python",
   "pygments_lexer": "ipython3",
   "version": "3.6.5"
  }
 },
 "nbformat": 4,
 "nbformat_minor": 2
}
